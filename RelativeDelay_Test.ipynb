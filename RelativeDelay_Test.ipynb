{
  "nbformat": 4,
  "nbformat_minor": 0,
  "metadata": {
    "colab": {
      "provenance": [],
      "authorship_tag": "ABX9TyN7sggiO3nCgTSjhFVpi46y",
      "include_colab_link": true
    },
    "kernelspec": {
      "name": "python3",
      "display_name": "Python 3"
    },
    "language_info": {
      "name": "python"
    }
  },
  "cells": [
    {
      "cell_type": "markdown",
      "metadata": {
        "id": "view-in-github",
        "colab_type": "text"
      },
      "source": [
        "<a href=\"https://colab.research.google.com/github/rupalisarathy/RIR_Delay/blob/main/RelativeDelay_Test.ipynb\" target=\"_parent\"><img src=\"https://colab.research.google.com/assets/colab-badge.svg\" alt=\"Open In Colab\"/></a>"
      ]
    },
    {
      "cell_type": "code",
      "execution_count": 1,
      "metadata": {
        "id": "mIY_E7deJA2f"
      },
      "outputs": [],
      "source": [
        "import numpy\n",
        "import math"
      ]
    },
    {
      "cell_type": "code",
      "source": [
        "def cartesian_distance(point1, point2):\n",
        "    x1, y1, z1 = point1\n",
        "    x2, y2, z2 = point2\n",
        "    distance = math.sqrt((x2 - x1)**2 + (y2 - y1)**2 + (z2 - z1)**2)\n",
        "    return distance"
      ],
      "metadata": {
        "id": "zUPxPcawJD54"
      },
      "execution_count": 2,
      "outputs": []
    },
    {
      "cell_type": "code",
      "source": [
        "def spherical_distance(point1, point2):\n",
        "    r1, az1, el1 = point1\n",
        "    r2, az2, el2 = point2\n",
        "\n",
        "    delta_theta = az2 - az1\n",
        "\n",
        "    d = math.sqrt(\n",
        "        r1**2 + r2**2 - 2*r1*r2*(math.sin(el1)*math.sin(el2)*math.cos(delta_theta) + math.cos(el1)*math.cos(el2))\n",
        "    )\n",
        "\n",
        "    return d"
      ],
      "metadata": {
        "id": "phi0TXYFJSMq"
      },
      "execution_count": 3,
      "outputs": []
    },
    {
      "cell_type": "code",
      "source": [
        "micone = (0.042, 45, 35)\n",
        "mictwo = (0.042, -45, -35)\n",
        "micthree = (0.042, 135, -35)\n",
        "micfour = (0.042, -135, 35)\n",
        "\n",
        "arbritrary = (0.05, 45, 45)\n",
        "center = (0,0,0)\n",
        "\n",
        "#330 m/s\n",
        "\n",
        "distance1 = spherical_distance(micone, arbritrary)\n",
        "distance2 = spherical_distance(mictwo, arbritrary)\n",
        "distance3 = spherical_distance(micthree, arbritrary)\n",
        "distance4 = spherical_distance(micfour, arbritrary)\n",
        "\n",
        "relative1 = distance1 - 0.042\n",
        "relative2 = distance2 - 0.042\n",
        "relative3 = distance3 - 0.042\n",
        "relative4 = distance4 - 0.042\n",
        "\n",
        "relative_time = (relative1/330, relative2/330, relative3/330, relative4/330)\n",
        "print(relative_time)"
      ],
      "metadata": {
        "id": "oJrcarNCJVte",
        "colab": {
          "base_uri": "https://localhost:8080/"
        },
        "outputId": "6578e25c-7dc0-4a89-9af8-4f79334d79fe"
      },
      "execution_count": 12,
      "outputs": [
        {
          "output_type": "stream",
          "name": "stdout",
          "text": [
            "(0.00014015216623014743, 0.0001252357575022705, 0.0001252357575022705, 9.421066146749208e-05)\n"
          ]
        }
      ]
    },
    {
      "cell_type": "code",
      "source": [],
      "metadata": {
        "id": "A4tUN3Vk-bc2"
      },
      "execution_count": null,
      "outputs": []
    }
  ]
}