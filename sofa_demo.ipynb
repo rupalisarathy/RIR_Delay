{
 "cells": [
  {
   "cell_type": "code",
   "execution_count": 11,
   "metadata": {},
   "outputs": [],
   "source": [
    "import numpy as np\n",
    "import sofa_utils as sofa\n",
    "import pysofaconventions as pysofa"
   ]
  },
  {
   "cell_type": "code",
   "execution_count": 13,
   "metadata": {},
   "outputs": [
    {
     "name": "stdout",
     "output_type": "stream",
     "text": [
      "Overwriting /vast/ci411/spatialscaper_dev/datasets/rir_datasets/spatialscaper_RIRs/bomb_shelter_mic.sofa\n"
     ]
    },
    {
     "ename": "NameError",
     "evalue": "name 'np' is not defined",
     "output_type": "error",
     "traceback": [
      "\u001b[0;31m---------------------------------------------------------------------------\u001b[0m",
      "\u001b[0;31mNameError\u001b[0m                                 Traceback (most recent call last)",
      "Input \u001b[0;32mIn [13]\u001b[0m, in \u001b[0;36m<cell line: 16>\u001b[0;34m()\u001b[0m\n\u001b[1;32m     13\u001b[0m sr \u001b[38;5;241m=\u001b[39m \u001b[38;5;241m100\u001b[39m\n\u001b[1;32m     14\u001b[0m comment \u001b[38;5;241m=\u001b[39m \u001b[38;5;124m\"\u001b[39m\u001b[38;5;124mthis is a test\u001b[39m\u001b[38;5;124m\"\u001b[39m\n\u001b[0;32m---> 16\u001b[0m \u001b[43msofa\u001b[49m\u001b[38;5;241;43m.\u001b[39;49m\u001b[43mcreate_srir_sofa\u001b[49m\u001b[43m(\u001b[49m\u001b[43mfilepath\u001b[49m\u001b[43m,\u001b[49m\u001b[43m \u001b[49m\u001b[43mrirs\u001b[49m\u001b[43m,\u001b[49m\u001b[43m \u001b[49m\u001b[43msource_pos\u001b[49m\u001b[43m,\u001b[49m\u001b[43m \u001b[49m\u001b[43mmic_pos\u001b[49m\u001b[43m,\u001b[49m\u001b[43m\\\u001b[49m\n\u001b[1;32m     17\u001b[0m \u001b[43m                      \u001b[49m\u001b[43mdb_name\u001b[49m\u001b[38;5;241;43m=\u001b[39;49m\u001b[43mdb_name\u001b[49m\u001b[43m,\u001b[49m\u001b[43m \u001b[49m\u001b[43mroom_name\u001b[49m\u001b[38;5;241;43m=\u001b[39;49m\u001b[43mroom_name\u001b[49m\u001b[43m,\u001b[49m\u001b[43m\\\u001b[49m\n\u001b[1;32m     18\u001b[0m \u001b[43m                      \u001b[49m\u001b[43mlistener_name\u001b[49m\u001b[38;5;241;43m=\u001b[39;49m\u001b[43mlistener_name\u001b[49m\u001b[43m,\u001b[49m\u001b[43m \u001b[49m\u001b[43msr\u001b[49m\u001b[38;5;241;43m=\u001b[39;49m\u001b[43msr\u001b[49m\u001b[43m,\u001b[49m\u001b[43m \u001b[49m\u001b[43mcomment\u001b[49m\u001b[38;5;241;43m=\u001b[39;49m\u001b[43mcomment\u001b[49m\u001b[43m)\u001b[49m\n",
      "File \u001b[0;32m~/RIR_Delay/sofa_utils.py:92\u001b[0m, in \u001b[0;36mcreate_srir_sofa\u001b[0;34m(filepath, rirs, source_pos, mic_pos, db_name, room_name, listener_name, sr, comment)\u001b[0m\n\u001b[1;32m     90\u001b[0m listenerUpVar\u001b[38;5;241m.\u001b[39mUnits \u001b[38;5;241m=\u001b[39m \u001b[38;5;124m\"\u001b[39m\u001b[38;5;124mmetre\u001b[39m\u001b[38;5;124m\"\u001b[39m\n\u001b[1;32m     91\u001b[0m listenerUpVar\u001b[38;5;241m.\u001b[39mType \u001b[38;5;241m=\u001b[39m \u001b[38;5;124m\"\u001b[39m\u001b[38;5;124mcartesian\u001b[39m\u001b[38;5;124m\"\u001b[39m\n\u001b[0;32m---> 92\u001b[0m listenerUpVar[:] \u001b[38;5;241m=\u001b[39m \u001b[43mnp\u001b[49m\u001b[38;5;241m.\u001b[39masarray([\u001b[38;5;241m0\u001b[39m, \u001b[38;5;241m0\u001b[39m, \u001b[38;5;241m1\u001b[39m])\n\u001b[1;32m     94\u001b[0m \u001b[38;5;66;03m# Listener looking forward (+x direction)\u001b[39;00m\n\u001b[1;32m     95\u001b[0m listenerViewVar \u001b[38;5;241m=\u001b[39m rootgrp\u001b[38;5;241m.\u001b[39mcreateVariable(\u001b[38;5;124m\"\u001b[39m\u001b[38;5;124mListenerView\u001b[39m\u001b[38;5;124m\"\u001b[39m, \u001b[38;5;124m\"\u001b[39m\u001b[38;5;124mf8\u001b[39m\u001b[38;5;124m\"\u001b[39m, (\u001b[38;5;124m\"\u001b[39m\u001b[38;5;124mI\u001b[39m\u001b[38;5;124m\"\u001b[39m, \u001b[38;5;124m\"\u001b[39m\u001b[38;5;124mC\u001b[39m\u001b[38;5;124m\"\u001b[39m))\n",
      "\u001b[0;31mNameError\u001b[0m: name 'np' is not defined"
     ]
    }
   ],
   "source": [
    "filename = 'test.sofa'\n",
    "M = 10\n",
    "N = 100\n",
    "R = 4\n",
    "C = 3\n",
    "\n",
    "rirs = np.empty((M,N,R))\n",
    "source_pos = np.empty((M,C))\n",
    "mic_pos = np.empty((M,C))\n",
    "db_name = \"test sofa\"\n",
    "room_name = \"test room\"\n",
    "listener_name = \"mic\"\n",
    "sr = 100\n",
    "comment = \"this is a test\"\n",
    "\n",
    "sofa.create_srir_sofa(filepath, rirs, source_pos, mic_pos,\\\n",
    "                      db_name=db_name, room_name=room_name,\\\n",
    "                      listener_name=listener_name, sr=sr, comment=comment)"
   ]
  },
  {
   "cell_type": "code",
   "execution_count": null,
   "metadata": {},
   "outputs": [],
   "source": []
  }
 ],
 "metadata": {
  "kernelspec": {
   "display_name": "S3D Env",
   "language": "python",
   "name": "s3d_env"
  },
  "language_info": {
   "codemirror_mode": {
    "name": "ipython",
    "version": 3
   },
   "file_extension": ".py",
   "mimetype": "text/x-python",
   "name": "python",
   "nbconvert_exporter": "python",
   "pygments_lexer": "ipython3",
   "version": "3.8.13"
  }
 },
 "nbformat": 4,
 "nbformat_minor": 4
}
